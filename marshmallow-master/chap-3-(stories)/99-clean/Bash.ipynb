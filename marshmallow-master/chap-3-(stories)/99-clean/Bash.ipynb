{
 "cells": [
  {
   "cell_type": "markdown",
   "metadata": {},
   "source": [
    "https://www.youtube.com/watch?v=JHM9rxYu2ao"
   ]
  },
  {
   "cell_type": "code",
   "execution_count": null,
   "metadata": {
    "collapsed": true
   },
   "outputs": [],
   "source": [
    "# Where is bash installed"
   ]
  },
  {
   "cell_type": "code",
   "execution_count": 8,
   "metadata": {
    "collapsed": false,
    "scrolled": true
   },
   "outputs": [
    {
     "name": "stdout",
     "output_type": "stream",
     "text": [
      "/bin/bash\n"
     ]
    }
   ],
   "source": [
    "%%bash\n",
    "# Where is bash installed\n",
    "which bash"
   ]
  },
  {
   "cell_type": "markdown",
   "metadata": {},
   "source": [
    "- Every script must start by specifying what interperater to use. (Lets specify bin/bash)\n",
    "- Made a new file in text editor"
   ]
  },
  {
   "cell_type": "code",
   "execution_count": 9,
   "metadata": {
    "collapsed": true
   },
   "outputs": [],
   "source": [
    "%%bash\n",
    "#!/bin/bash \n"
   ]
  },
  {
   "cell_type": "code",
   "execution_count": 10,
   "metadata": {
    "collapsed": false
   },
   "outputs": [
    {
     "name": "stdout",
     "output_type": "stream",
     "text": [
      "/Users/dylanjorgensen/Google Drive/09 - Code Corner/python/07-git/marshmallow/03-chapter-3/10-files\n"
     ]
    }
   ],
   "source": [
    "%%bash\n",
    "pwd"
   ]
  },
  {
   "cell_type": "code",
   "execution_count": 13,
   "metadata": {
    "collapsed": false
   },
   "outputs": [
    {
     "name": "stderr",
     "output_type": "stream",
     "text": [
      "bash: line 1: myscript: command not found\n"
     ]
    }
   ],
   "source": [
    "%%bash\n",
    "myscript"
   ]
  },
  {
   "cell_type": "code",
   "execution_count": 14,
   "metadata": {
    "collapsed": false,
    "scrolled": true
   },
   "outputs": [
    {
     "name": "stdout",
     "output_type": "stream",
     "text": [
      "10-02-navigation.ipynb\n",
      "10-03-files.ipynb\n",
      "10-04-custom-module.ipynb\n",
      "Bash.ipynb\n",
      "files\n",
      "myscript\n",
      "output.txt\n"
     ]
    }
   ],
   "source": [
    "%%bash\n",
    "ls"
   ]
  },
  {
   "cell_type": "markdown",
   "metadata": {},
   "source": [
    "Lets see why permission was denied\n",
    "- The first 4 are the owner, so they have read wrote\n",
    "- The next 4 are the group, they have just read\n",
    "- The last 4 are everyone, they have just read.\n",
    "No one has excitable permissions. "
   ]
  },
  {
   "cell_type": "code",
   "execution_count": null,
   "metadata": {
    "collapsed": true
   },
   "outputs": [],
   "source": [
    "# -rw-r--r--@"
   ]
  },
  {
   "cell_type": "code",
   "execution_count": 16,
   "metadata": {
    "collapsed": false
   },
   "outputs": [
    {
     "name": "stdout",
     "output_type": "stream",
     "text": [
      "total 112\n",
      "drwxr-xr-x  11 dylanjorgensen  staff    374 Dec 11 23:33 .\n",
      "drwxr-xr-x   8 dylanjorgensen  staff    272 Dec  9 12:16 ..\n",
      "-rw-r--r--@  1 dylanjorgensen  staff   6148 Dec  9 14:10 .DS_Store\n",
      "drwxr-xr-x   7 dylanjorgensen  staff    238 Dec 11 23:18 .ipynb_checkpoints\n",
      "-rw-r--r--   1 dylanjorgensen  staff  10005 Nov 22 01:19 10-02-navigation.ipynb\n",
      "-rw-r--r--   1 dylanjorgensen  staff  19205 Dec  9 14:09 10-03-files.ipynb\n",
      "-rw-r--r--   1 dylanjorgensen  staff   4228 Nov  2 16:52 10-04-custom-module.ipynb\n",
      "-rw-r--r--   1 dylanjorgensen  staff   3043 Dec 11 23:31 Bash.ipynb\n",
      "drwxr-xr-x   5 dylanjorgensen  staff    170 Dec  9 13:50 files\n",
      "-rw-r--r--@  1 dylanjorgensen  staff    384 Dec 11 23:32 myscript\n",
      "-rw-r--r--   1 dylanjorgensen  staff      0 Dec  9 13:54 output.txt\n"
     ]
    }
   ],
   "source": [
    "%%bash\n",
    "ls -al"
   ]
  },
  {
   "cell_type": "markdown",
   "metadata": {},
   "source": [
    "So now lets give the owner the permission they need"
   ]
  },
  {
   "cell_type": "code",
   "execution_count": 19,
   "metadata": {
    "collapsed": false
   },
   "outputs": [],
   "source": [
    "%%bash\n",
    "chmod u+x myscript"
   ]
  },
  {
   "cell_type": "markdown",
   "metadata": {},
   "source": [
    "- Now the owner has read, write and execute"
   ]
  },
  {
   "cell_type": "code",
   "execution_count": null,
   "metadata": {
    "collapsed": true
   },
   "outputs": [],
   "source": [
    "# Wow!\n",
    "# -rwxr--r--@"
   ]
  },
  {
   "cell_type": "code",
   "execution_count": 21,
   "metadata": {
    "collapsed": false
   },
   "outputs": [
    {
     "name": "stdout",
     "output_type": "stream",
     "text": [
      "total 120\n",
      "drwxr-xr-x  11 dylanjorgensen  staff    374 Dec 11 23:37 .\n",
      "drwxr-xr-x   8 dylanjorgensen  staff    272 Dec  9 12:16 ..\n",
      "-rw-r--r--@  1 dylanjorgensen  staff   6148 Dec  9 14:10 .DS_Store\n",
      "drwxr-xr-x   7 dylanjorgensen  staff    238 Dec 11 23:18 .ipynb_checkpoints\n",
      "-rw-r--r--   1 dylanjorgensen  staff  10005 Nov 22 01:19 10-02-navigation.ipynb\n",
      "-rw-r--r--   1 dylanjorgensen  staff  19205 Dec  9 14:09 10-03-files.ipynb\n",
      "-rw-r--r--   1 dylanjorgensen  staff   4228 Nov  2 16:52 10-04-custom-module.ipynb\n",
      "-rw-r--r--   1 dylanjorgensen  staff   5012 Dec 11 23:35 Bash.ipynb\n",
      "drwxr-xr-x   5 dylanjorgensen  staff    170 Dec  9 13:50 files\n",
      "-rwxr--r--@  1 dylanjorgensen  staff    384 Dec 11 23:32 myscript\n",
      "-rw-r--r--   1 dylanjorgensen  staff      0 Dec  9 13:54 output.txt\n"
     ]
    }
   ],
   "source": [
    "%%bash\n",
    "ls -al"
   ]
  },
  {
   "cell_type": "code",
   "execution_count": 24,
   "metadata": {
    "collapsed": false
   },
   "outputs": [
    {
     "name": "stderr",
     "output_type": "stream",
     "text": [
      "bash: line 1: myscript: command not found\n"
     ]
    }
   ],
   "source": [
    "%%bash\n",
    "myscript"
   ]
  },
  {
   "cell_type": "code",
   "execution_count": null,
   "metadata": {
    "collapsed": true
   },
   "outputs": [],
   "source": []
  }
 ],
 "metadata": {
  "anaconda-cloud": {},
  "kernelspec": {
   "display_name": "Python [default]",
   "language": "python",
   "name": "python3"
  },
  "language_info": {
   "codemirror_mode": {
    "name": "ipython",
    "version": 3
   },
   "file_extension": ".py",
   "mimetype": "text/x-python",
   "name": "python",
   "nbconvert_exporter": "python",
   "pygments_lexer": "ipython3",
   "version": "3.5.2"
  },
  "toc": {
   "nav_menu": {
    "height": "12px",
    "width": "252px"
   },
   "navigate_menu": true,
   "number_sections": false,
   "sideBar": true,
   "threshold": 4,
   "toc_cell": false,
   "toc_section_display": "block",
   "toc_window_display": true
  }
 },
 "nbformat": 4,
 "nbformat_minor": 1
}
