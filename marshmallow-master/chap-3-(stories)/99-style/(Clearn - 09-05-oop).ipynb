{
 "cells": [
  {
   "cell_type": "markdown",
   "metadata": {},
   "source": [
    "#### Resources"
   ]
  },
  {
   "cell_type": "markdown",
   "metadata": {},
   "source": [
    "Follow Along\n",
    "- [Download Code - GitHub.com](https://github.com/dylanjorgensen/python)\n",
    "- [Watch Full Course - Udemy.com](www.udemy.com/course/1007826)\n",
    "- [Mnemonic eBook - DylanJorgensen.com](https://docs.google.com/document/d/1HOTSYAwUFwIagYbJfcsV3fKBnwdyyRmKGOsmUxzXui4/edit#heading=h.pq8kez3gce52)"
   ]
  },
  {
   "cell_type": "markdown",
   "metadata": {},
   "source": [
    "Read More"
   ]
  },
  {
   "cell_type": "markdown",
   "metadata": {},
   "source": [
    "# Instaces"
   ]
  },
  {
   "cell_type": "markdown",
   "metadata": {},
   "source": [
    "### Class vs. Instance Vars"
   ]
  },
  {
   "cell_type": "code",
   "execution_count": null,
   "metadata": {
    "collapsed": true
   },
   "outputs": [],
   "source": [
    "class RabbitMaker(object):\n",
    "    \n",
    "    instance_var = 0\n",
    "    class_var = 0\n",
    "    \n",
    "    def __init__(self, name):\n",
    "        self.name = name\n",
    "        \n",
    "        # This will not inciment because self is unique each time\n",
    "        self.instance_var += 1\n",
    "        \n",
    "        # This will incriment as it keeps referencing var that is building\n",
    "        RabbitMaker.class_var += 1"
   ]
  },
  {
   "cell_type": "code",
   "execution_count": null,
   "metadata": {
    "collapsed": true
   },
   "outputs": [],
   "source": [
    "roger = RabbitMaker(\"roger\")"
   ]
  },
  {
   "cell_type": "code",
   "execution_count": null,
   "metadata": {
    "collapsed": true
   },
   "outputs": [],
   "source": [
    "roger.instance_var"
   ]
  },
  {
   "cell_type": "code",
   "execution_count": null,
   "metadata": {
    "collapsed": true
   },
   "outputs": [],
   "source": [
    "roger.class_var"
   ]
  },
  {
   "cell_type": "code",
   "execution_count": null,
   "metadata": {
    "collapsed": true
   },
   "outputs": [],
   "source": [
    "bugs = RabbitMaker(\"bugs\")"
   ]
  },
  {
   "cell_type": "code",
   "execution_count": null,
   "metadata": {
    "collapsed": true
   },
   "outputs": [],
   "source": [
    "bugs.instance_var"
   ]
  },
  {
   "cell_type": "code",
   "execution_count": null,
   "metadata": {
    "collapsed": true
   },
   "outputs": [],
   "source": [
    "bugs.class_var"
   ]
  },
  {
   "cell_type": "markdown",
   "metadata": {},
   "source": [
    "### Class vs. Instance Methods"
   ]
  },
  {
   "cell_type": "markdown",
   "metadata": {},
   "source": [
    "### Pass Class Into Methods\n",
    "- How do we make it so a method does not take in the self (instance) but instead the class?"
   ]
  },
  {
   "cell_type": "code",
   "execution_count": null,
   "metadata": {
    "collapsed": true
   },
   "outputs": [],
   "source": [
    "class BullRider(object):\n",
    "\n",
    "    instance_var = 0\n",
    "    class_var = 0\n",
    "    \n",
    "    def __init__(self):\n",
    "        pass\n",
    "    \n",
    "    \n",
    "    @classmethod\n",
    "    def class_first(cls):  # Must use cls to avoid class keyword\n",
    "        \n",
    "        # This will not inciment because self is unique each time\n",
    "        cls.instance_var += 1\n",
    "        \n",
    "        # This will incriment as it keeps referencing var that is building\n",
    "        RabbitMaker.class_var += 1"
   ]
  },
  {
   "cell_type": "code",
   "execution_count": null,
   "metadata": {
    "collapsed": true
   },
   "outputs": [],
   "source": [
    "bull_1 = BullRider()"
   ]
  },
  {
   "cell_type": "code",
   "execution_count": null,
   "metadata": {
    "collapsed": true
   },
   "outputs": [],
   "source": [
    "bull_1.class_first()"
   ]
  },
  {
   "cell_type": "code",
   "execution_count": null,
   "metadata": {
    "collapsed": true
   },
   "outputs": [],
   "source": [
    "bull_1.instance_var"
   ]
  },
  {
   "cell_type": "code",
   "execution_count": null,
   "metadata": {
    "collapsed": true
   },
   "outputs": [],
   "source": []
  },
  {
   "cell_type": "code",
   "execution_count": null,
   "metadata": {
    "collapsed": true
   },
   "outputs": [],
   "source": []
  },
  {
   "cell_type": "code",
   "execution_count": null,
   "metadata": {
    "collapsed": true
   },
   "outputs": [],
   "source": []
  },
  {
   "cell_type": "code",
   "execution_count": null,
   "metadata": {
    "collapsed": true
   },
   "outputs": [],
   "source": []
  },
  {
   "cell_type": "markdown",
   "metadata": {},
   "source": [
    "# Class Inheritance"
   ]
  },
  {
   "cell_type": "code",
   "execution_count": null,
   "metadata": {
    "collapsed": true
   },
   "outputs": [],
   "source": []
  },
  {
   "cell_type": "code",
   "execution_count": null,
   "metadata": {
    "collapsed": true
   },
   "outputs": [],
   "source": []
  },
  {
   "cell_type": "code",
   "execution_count": null,
   "metadata": {
    "collapsed": true
   },
   "outputs": [],
   "source": []
  },
  {
   "cell_type": "markdown",
   "metadata": {},
   "source": [
    "### Canonical Example"
   ]
  },
  {
   "cell_type": "markdown",
   "metadata": {},
   "source": [
    "### Follow Along"
   ]
  },
  {
   "cell_type": "markdown",
   "metadata": {},
   "source": [
    "- [github.com/dylanjorgensen/python](https://github.com/dylanjorgensen/python)\n",
    "- [youtube.com/dylanjorgensen/playlists](https://www.youtube.com/dylanjorgensen/playlists)"
   ]
  },
  {
   "cell_type": "markdown",
   "metadata": {},
   "source": [
    "### Resources"
   ]
  },
  {
   "cell_type": "markdown",
   "metadata": {
    "heading_collapsed": true
   },
   "source": [
    "# Object Passing"
   ]
  },
  {
   "cell_type": "markdown",
   "metadata": {
    "hidden": true
   },
   "source": [
    "Notice how we can pass the default object into our class"
   ]
  },
  {
   "cell_type": "code",
   "execution_count": null,
   "metadata": {
    "collapsed": true,
    "hidden": true
   },
   "outputs": [],
   "source": [
    "# Notice the added object. \n",
    "#class Human(object):"
   ]
  },
  {
   "cell_type": "code",
   "execution_count": 1,
   "metadata": {
    "collapsed": false,
    "hidden": true
   },
   "outputs": [],
   "source": [
    "class Dog(object):\n",
    "\n",
    "    # Attributes / Variables\n",
    "    def __init__(self, name=\"\", height=0, weight=0):\n",
    "        self.name = name\n",
    "        self.height = height\n",
    "        self.weigh = weight\n",
    "\n",
    "    # Methods / Actions\n",
    "    def run(self):\n",
    "        print(\"{} the dog runs\".format(self.name))\n",
    "\n",
    "    def eat(self):\n",
    "        print(\"{} the dog eats\".format(self.name))\n",
    "        \n",
    "    def bark(self):\n",
    "        print(\"{} the dog barks\".format(self.name))"
   ]
  },
  {
   "cell_type": "code",
   "execution_count": 49,
   "metadata": {
    "collapsed": false,
    "hidden": true
   },
   "outputs": [
    {
     "name": "stdout",
     "output_type": "stream",
     "text": [
      "Spot the dog runs\n"
     ]
    }
   ],
   "source": [
    "spot = Dog(\"Spot\", 50,75)\n",
    "spot.run()"
   ]
  },
  {
   "cell_type": "markdown",
   "metadata": {},
   "source": [
    "# Getters and Setters...\n",
    "- Getters and setters are used to protect our object from assigning bad fields values or improve output.\n",
    "- This will make it so we only an int above 0"
   ]
  },
  {
   "cell_type": "code",
   "execution_count": 55,
   "metadata": {
    "collapsed": true
   },
   "outputs": [],
   "source": [
    "class Square(object):\n",
    "\n",
    "    # Attributes / Variables\n",
    "    def __init__(self, height=0, width=0):\n",
    "        self.height = height\n",
    "        self.width = width\n",
    "\n",
    "    @property\n",
    "    def height(self):\n",
    "        print(\"Retrieving the Heignt\")\n",
    "        \n",
    "        return self.__height\n",
    "\n",
    "    @height.setter\n",
    "    def height(self, value):\n",
    "        \n",
    "        if value > 0:\n",
    "            self.__height = value\n",
    "        else:\n",
    "            print(\"Please only enter numbers for height\")\n",
    "    \n",
    "    def getArea(self):\n",
    "        return int(self.__height) * int(self.__height)"
   ]
  },
  {
   "cell_type": "markdown",
   "metadata": {},
   "source": [
    "# Subclasses\n",
    "- We don' need the () on the method anymore"
   ]
  },
  {
   "cell_type": "code",
   "execution_count": 56,
   "metadata": {
    "collapsed": false
   },
   "outputs": [
    {
     "name": "stdout",
     "output_type": "stream",
     "text": [
      "Retrieving the Heignt\n"
     ]
    },
    {
     "data": {
      "text/plain": [
       "10"
      ]
     },
     "execution_count": 56,
     "metadata": {},
     "output_type": "execute_result"
    }
   ],
   "source": [
    "my_square = Square(10,10)\n",
    "my_square.height"
   ]
  },
  {
   "cell_type": "code",
   "execution_count": 57,
   "metadata": {
    "collapsed": false
   },
   "outputs": [
    {
     "data": {
      "text/plain": [
       "100"
      ]
     },
     "execution_count": 57,
     "metadata": {},
     "output_type": "execute_result"
    }
   ],
   "source": [
    "my_square.getArea()"
   ]
  },
  {
   "cell_type": "markdown",
   "metadata": {},
   "source": [
    "# Super Classes"
   ]
  },
  {
   "cell_type": "code",
   "execution_count": 3,
   "metadata": {
    "collapsed": false
   },
   "outputs": [
    {
     "ename": "SyntaxError",
     "evalue": "Missing parentheses in call to 'print' (<ipython-input-3-b7a121f65efe>, line 16)",
     "output_type": "error",
     "traceback": [
      "\u001b[0;36m  File \u001b[0;32m\"<ipython-input-3-b7a121f65efe>\"\u001b[0;36m, line \u001b[0;32m16\u001b[0m\n\u001b[0;31m    print cat.name, cat.legs, cat.sound\u001b[0m\n\u001b[0m            ^\u001b[0m\n\u001b[0;31mSyntaxError\u001b[0m\u001b[0;31m:\u001b[0m Missing parentheses in call to 'print'\n"
     ]
    }
   ],
   "source": [
    "class Animal(object):\n",
    "    name = \"none\"\n",
    "    legs = 4\n",
    "    sound = \"none\"\n",
    "\n",
    "    def set(self, name, legs, sound):\n",
    "        self.name = name\n",
    "        self.legs = legs\n",
    "        self.sound = sound\n",
    "\n",
    "def main():\n",
    "\n",
    "    cat = Animal()\n",
    "    cat.set(\"cat\", 4, \"meow\")\n",
    "\n",
    "    print cat.name, cat.legs, cat.sound"
   ]
  },
  {
   "cell_type": "code",
   "execution_count": null,
   "metadata": {
    "collapsed": true
   },
   "outputs": [],
   "source": []
  },
  {
   "cell_type": "markdown",
   "metadata": {},
   "source": [
    "# Overwriting"
   ]
  },
  {
   "cell_type": "code",
   "execution_count": null,
   "metadata": {
    "collapsed": true
   },
   "outputs": [],
   "source": []
  },
  {
   "cell_type": "markdown",
   "metadata": {},
   "source": [
    "# Inheritance"
   ]
  },
  {
   "cell_type": "code",
   "execution_count": 2,
   "metadata": {
    "collapsed": false
   },
   "outputs": [
    {
     "ename": "SyntaxError",
     "evalue": "invalid syntax (<ipython-input-2-b9e314c9b00f>, line 18)",
     "output_type": "error",
     "traceback": [
      "\u001b[0;36m  File \u001b[0;32m\"<ipython-input-2-b9e314c9b00f>\"\u001b[0;36m, line \u001b[0;32m18\u001b[0m\n\u001b[0;31m    print \"is ourPet at Pet?\" + str(isinstance(ourPet, Pet))  # True\u001b[0m\n\u001b[0m                            ^\u001b[0m\n\u001b[0;31mSyntaxError\u001b[0m\u001b[0;31m:\u001b[0m invalid syntax\n"
     ]
    }
   ],
   "source": [
    "class Pet(object):\n",
    "\n",
    "    def __init__(self, name, age):\n",
    "        self.name = name\n",
    "        self.age = age\n",
    "\n",
    "\n",
    "class Cat(Pet):\n",
    "\n",
    "    def __init__(self, name, age):\n",
    "        Pet.__init__(self, name, age)\n",
    "\n",
    "\n",
    "\n",
    "def main():\n",
    "\n",
    "    ourPet = Pet(\"pet\", 1)\n",
    "    print \"is ourPet at Pet?\" + str(isinstance(ourPet, Pet))  # True\n",
    "    print \"is ourPet at Cat?\" + str(isinstance(ourPet, Cat))  # False\n",
    "\n",
    "\n",
    "    ourCat = Cat(\"marbles\", 6)\n",
    "\n",
    "    print \"is ourCat at Pet?\" + str(isinstance(ourCat, Pet))\n",
    "    print \"is ourCat at Cat?\" + str(isinstance(ourCat, Cat))\n"
   ]
  },
  {
   "cell_type": "code",
   "execution_count": null,
   "metadata": {
    "collapsed": true
   },
   "outputs": [],
   "source": []
  },
  {
   "cell_type": "markdown",
   "metadata": {},
   "source": [
    "# Multiple Inheritance"
   ]
  },
  {
   "cell_type": "code",
   "execution_count": null,
   "metadata": {
    "collapsed": true
   },
   "outputs": [],
   "source": []
  },
  {
   "cell_type": "markdown",
   "metadata": {},
   "source": [
    "# polymorphism"
   ]
  },
  {
   "cell_type": "code",
   "execution_count": null,
   "metadata": {
    "collapsed": true
   },
   "outputs": [],
   "source": [
    "\n",
    "class Pet(object):\n",
    "\n",
    "    def __init__(self, name, age):\n",
    "        self.name = name\n",
    "        self.age = age\n",
    "\n",
    "    def talk(self):\n",
    "        raise NotImplementedError(\"subclass must implement abstract method\")\n",
    "\n",
    "class Cat(Pet):\n",
    "\n",
    "    def __init__(self, name, age):\n",
    "        Pet.__init__(self, name, age)\n",
    "\n",
    "    def talk(self):\n",
    "        return \"meow\"\n",
    "\n",
    "\n",
    "class Dog(Pet):\n",
    "\n",
    "    def __init__(self, name, age):\n",
    "        Pet.__init__(self, name, age)\n",
    "\n",
    "    def talk(self):\n",
    "        return \"bark\"\n",
    "\n",
    "\n",
    "\n",
    "def main():\n",
    "\n",
    "    # List assumes they are pet objects because they are instances of sub classes\n",
    "    pets = [Cat(\"Marbles\", 4), Dog(\"Banyon\", 10)]\n",
    "\n",
    "    for pet in pets:\n",
    "        # Notice pet.talk() is a function\n",
    "        print \"Name:\", pet.name, \"Age:\", pet.age, \"Talk: \", pet.talk()"
   ]
  }
 ],
 "metadata": {
  "anaconda-cloud": {},
  "kernelspec": {
   "display_name": "Python [default]",
   "language": "python",
   "name": "python3"
  },
  "language_info": {
   "codemirror_mode": {
    "name": "ipython",
    "version": 3
   },
   "file_extension": ".py",
   "mimetype": "text/x-python",
   "name": "python",
   "nbconvert_exporter": "python",
   "pygments_lexer": "ipython3",
   "version": "3.5.2"
  },
  "toc": {
   "nav_menu": {
    "height": "174px",
    "width": "252px"
   },
   "navigate_menu": true,
   "number_sections": false,
   "sideBar": true,
   "threshold": 4,
   "toc_cell": false,
   "toc_section_display": "block",
   "toc_window_display": true
  }
 },
 "nbformat": 4,
 "nbformat_minor": 0
}
