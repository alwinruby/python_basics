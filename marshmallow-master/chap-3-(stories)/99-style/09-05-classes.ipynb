{
 "cells": [
  {
   "cell_type": "markdown",
   "metadata": {
    "heading_collapsed": true
   },
   "source": [
    "#### Resources"
   ]
  },
  {
   "cell_type": "markdown",
   "metadata": {
    "hidden": true
   },
   "source": [
    "Follow Along\n",
    "- [Download Code - GitHub.com](https://github.com/dylanjorgensen/python)\n",
    "- [Watch Full Course - Udemy.com](www.udemy.com/course/1007826)\n",
    "- [Mnemonic eBook - DylanJorgensen.com](https://docs.google.com/document/d/1HOTSYAwUFwIagYbJfcsV3fKBnwdyyRmKGOsmUxzXui4/edit#heading=h.pq8kez3gce52)"
   ]
  },
  {
   "cell_type": "markdown",
   "metadata": {
    "hidden": true
   },
   "source": [
    "Read More\n",
    "- [Preparing for a Python Interview](https://www.youtube.com/watch?v=DEwgZNC-KyE&feature=youtu.be&t=15m5s)\n",
    "- [Great Template With Layers](http://jtauber.com/2006/05/templates.html)\n",
    "- [Stake Exchange](http://softwareengineering.stackexchange.com/questions/206860/why-are-methods-considered-the-class-attributes-in-python)\n",
    "- [Stack Overflow](http://stackoverflow.com/questions/17000450/difference-between-calling-a-method-and-accessing-an-attribute)\n",
    "- [PDF](http://www.cafepy.com/article/python_attributes_and_methods/python_attributes_and_methods.html)\n",
    "- [Property vs Attribute](http://stackoverflow.com/questions/7374748/whats-the-difference-between-a-python-property-and-attribute)\n",
    "- [Learn Python The Hard Way](https://learnpythonthehardway.org/book/ex40.html)"
   ]
  },
  {
   "cell_type": "markdown",
   "metadata": {
    "heading_collapsed": true
   },
   "source": [
    "# Classes"
   ]
  },
  {
   "cell_type": "code",
   "execution_count": 1,
   "metadata": {
    "collapsed": false,
    "hidden": true
   },
   "outputs": [],
   "source": [
    "# Definition\n",
    "class Pizza(object): # Class inherits from object\n",
    "    \n",
    "    # Attributes\n",
    "    def __init__(self, name, size, price):  # Initializes attributes\n",
    "        self.name = name\n",
    "        self.size = size\n",
    "        self.price = price \n",
    "        \n",
    "    # Method 1\n",
    "    def karate(self): # Functions confined to specific types\n",
    "        print(\"{} attack, chop, chop, chop!\".format(self.name))\n",
    "    \n",
    "    # Method 2\n",
    "    def sing_opera(self, text): # Self is replaced by instance\n",
    "        print(self.name, \"sings:\", text)"
   ]
  },
  {
   "cell_type": "markdown",
   "metadata": {
    "heading_collapsed": true
   },
   "source": [
    "# Instance"
   ]
  },
  {
   "cell_type": "markdown",
   "metadata": {
    "heading_collapsed": true,
    "hidden": true
   },
   "source": [
    "### Instantiation"
   ]
  },
  {
   "cell_type": "code",
   "execution_count": null,
   "metadata": {
    "collapsed": false,
    "hidden": true
   },
   "outputs": [],
   "source": [
    "# Instance\n",
    "pepperoni = Pizza(\"pepperoni\", \"medium\", 9.99)"
   ]
  },
  {
   "cell_type": "code",
   "execution_count": null,
   "metadata": {
    "collapsed": false,
    "hidden": true
   },
   "outputs": [],
   "source": [
    "# What happens when we run an instance?\n",
    "pepperoni"
   ]
  },
  {
   "cell_type": "code",
   "execution_count": null,
   "metadata": {
    "collapsed": false,
    "hidden": true
   },
   "outputs": [],
   "source": [
    "# Can we call an instance?\n",
    "callable(pepperoni)"
   ]
  },
  {
   "cell_type": "code",
   "execution_count": null,
   "metadata": {
    "collapsed": false,
    "hidden": true
   },
   "outputs": [],
   "source": [
    "# Maybe with ()?\n",
    "callable(pepperoni())"
   ]
  },
  {
   "cell_type": "code",
   "execution_count": null,
   "metadata": {
    "collapsed": false,
    "hidden": true
   },
   "outputs": [],
   "source": [
    "# Do multiple instances have the same id? \n",
    "\n",
    "pepperoni = Pizza(\"pepperoni\", \"medium\", 9.99)\n",
    "veggie = Pizza(\"veggie\", \"small\", 7.99)\n",
    "hawaiian = Pizza(\"hawaiian\", \"large\", 12.99)\n",
    "\n",
    "id(pepperoni), id(veggie), id(hawaiian)"
   ]
  },
  {
   "cell_type": "markdown",
   "metadata": {
    "heading_collapsed": true,
    "hidden": true
   },
   "source": [
    "### Attribute/Variables"
   ]
  },
  {
   "cell_type": "code",
   "execution_count": null,
   "metadata": {
    "collapsed": true,
    "hidden": true
   },
   "outputs": [],
   "source": [
    "# Instance reminder\n",
    "pepperoni = Pizza(\"pepperoni\", \"medium\", 9.99)"
   ]
  },
  {
   "cell_type": "code",
   "execution_count": null,
   "metadata": {
    "collapsed": false,
    "hidden": true
   },
   "outputs": [],
   "source": [
    "# Will this retrieve attibutes?\n",
    "pepperoni.price"
   ]
  },
  {
   "cell_type": "code",
   "execution_count": null,
   "metadata": {
    "collapsed": true,
    "hidden": true
   },
   "outputs": [],
   "source": [
    "# Can we add new attibutes to our instance?\n",
    "pepperoni.temp = \"cold\""
   ]
  },
  {
   "cell_type": "code",
   "execution_count": null,
   "metadata": {
    "collapsed": false,
    "hidden": true
   },
   "outputs": [],
   "source": [
    "pepperoni.temp"
   ]
  },
  {
   "cell_type": "code",
   "execution_count": null,
   "metadata": {
    "collapsed": false,
    "hidden": true
   },
   "outputs": [],
   "source": [
    "# Does adding something to our instance everything?\n",
    "veggie.temp"
   ]
  },
  {
   "cell_type": "markdown",
   "metadata": {
    "heading_collapsed": true,
    "hidden": true
   },
   "source": [
    "### Methods/Behaviors"
   ]
  },
  {
   "cell_type": "code",
   "execution_count": 2,
   "metadata": {
    "collapsed": true,
    "hidden": true
   },
   "outputs": [],
   "source": [
    "# Instance double reminder\n",
    "pepperoni = Pizza(\"pepperoni\", \"medium\", 9.99)"
   ]
  },
  {
   "cell_type": "code",
   "execution_count": null,
   "metadata": {
    "collapsed": false,
    "hidden": true
   },
   "outputs": [],
   "source": [
    "# What methods do my instances have?\n",
    "# pepperoni.TAB"
   ]
  },
  {
   "cell_type": "code",
   "execution_count": 3,
   "metadata": {
    "collapsed": false,
    "hidden": true
   },
   "outputs": [
    {
     "data": {
      "text/plain": [
       "True"
      ]
     },
     "execution_count": 3,
     "metadata": {},
     "output_type": "execute_result"
    }
   ],
   "source": [
    "# Do pizzas know karate?\n",
    "callable(pepperoni.karate)"
   ]
  },
  {
   "cell_type": "code",
   "execution_count": 4,
   "metadata": {
    "collapsed": false,
    "hidden": true
   },
   "outputs": [
    {
     "name": "stdout",
     "output_type": "stream",
     "text": [
      "pepperoni attack, chop, chop, chop!\n"
     ]
    }
   ],
   "source": [
    "pepperoni.karate()"
   ]
  },
  {
   "cell_type": "code",
   "execution_count": 5,
   "metadata": {
    "collapsed": false,
    "hidden": true
   },
   "outputs": [
    {
     "data": {
      "text/plain": [
       "method"
      ]
     },
     "execution_count": 5,
     "metadata": {},
     "output_type": "execute_result"
    }
   ],
   "source": [
    "# What type is a function in a class?\n",
    "type(pepperoni.karate)"
   ]
  },
  {
   "cell_type": "code",
   "execution_count": null,
   "metadata": {
    "collapsed": false,
    "hidden": true,
    "scrolled": false
   },
   "outputs": [],
   "source": [
    "# Reminder\n",
    "\n",
    "# class Pizza(object): # Class inherits from object\n",
    " \n",
    "#     # ...\n",
    "    \n",
    "#     # Method 2\n",
    "#     def sing_opera(self, text): # Self is replaced by instance\n",
    "#         print(self.name, \"sings:\", text)"
   ]
  },
  {
   "cell_type": "code",
   "execution_count": 6,
   "metadata": {
    "collapsed": false,
    "hidden": true
   },
   "outputs": [
    {
     "name": "stdout",
     "output_type": "stream",
     "text": [
      "pepperoni sings: La, la, la, laaaa\n"
     ]
    }
   ],
   "source": [
    "# Can we pass an arg into our method so he can sing opera?\n",
    "pepperoni.sing_opera(\"La, la, la, laaaa\")"
   ]
  },
  {
   "cell_type": "code",
   "execution_count": 7,
   "metadata": {
    "collapsed": false,
    "hidden": true
   },
   "outputs": [
    {
     "ename": "TypeError",
     "evalue": "sing_opera() takes 2 positional arguments but 3 were given",
     "output_type": "error",
     "traceback": [
      "\u001b[0;31m---------------------------------------------------------------------------\u001b[0m",
      "\u001b[0;31mTypeError\u001b[0m                                 Traceback (most recent call last)",
      "\u001b[0;32m<ipython-input-7-739e3bf4bec7>\u001b[0m in \u001b[0;36m<module>\u001b[0;34m()\u001b[0m\n\u001b[1;32m      1\u001b[0m \u001b[0;31m# Can we pass in two arguments? One for self & text?\u001b[0m\u001b[0;34m\u001b[0m\u001b[0;34m\u001b[0m\u001b[0m\n\u001b[0;32m----> 2\u001b[0;31m \u001b[0mpepperoni\u001b[0m\u001b[0;34m.\u001b[0m\u001b[0msing_opera\u001b[0m\u001b[0;34m(\u001b[0m\u001b[0;34m\"pepperoni\"\u001b[0m\u001b[0;34m,\u001b[0m \u001b[0;34m\"La, la, la, laaaa\"\u001b[0m\u001b[0;34m)\u001b[0m\u001b[0;34m\u001b[0m\u001b[0m\n\u001b[0m",
      "\u001b[0;31mTypeError\u001b[0m: sing_opera() takes 2 positional arguments but 3 were given"
     ]
    }
   ],
   "source": [
    "# Can we pass in two arguments? One for self & text?\n",
    "pepperoni.sing_opera(\"pepperoni\", \"La, la, la, laaaa\")"
   ]
  },
  {
   "cell_type": "markdown",
   "metadata": {
    "heading_collapsed": true
   },
   "source": [
    "# Properties"
   ]
  },
  {
   "cell_type": "markdown",
   "metadata": {
    "hidden": true
   },
   "source": [
    "- Properties are a special kind of attribute\n",
    "- They are attributes that come from a private/dunder (double underscore) method.\n",
    "- Private methods run automatically on instantiation."
   ]
  },
  {
   "cell_type": "code",
   "execution_count": 9,
   "metadata": {
    "collapsed": false,
    "hidden": true
   },
   "outputs": [],
   "source": [
    "# Definition\n",
    "class Pizza(object): # Class inherits from object\n",
    "    \n",
    "    # Attributes\n",
    "    def __init__(self, name, size, price):  # Initializes attributes\n",
    "        self.name = name\n",
    "        self.size = size\n",
    "        self.price = price \n",
    "    \n",
    "    def enjoy(self, temp, hungry):\n",
    "        self.temp = temp # These are attributes also\n",
    "        self.hungry = hungry\n",
    "        self.delivery = \"fast\"\n",
    "        "
   ]
  },
  {
   "cell_type": "code",
   "execution_count": 10,
   "metadata": {
    "collapsed": true,
    "hidden": true
   },
   "outputs": [],
   "source": [
    "# Instance\n",
    "cheese = Pizza(\"cheese\", \"medium\", 9.99)"
   ]
  },
  {
   "cell_type": "code",
   "execution_count": 11,
   "metadata": {
    "collapsed": false,
    "hidden": true
   },
   "outputs": [
    {
     "data": {
      "text/plain": [
       "'medium'"
      ]
     },
     "execution_count": 11,
     "metadata": {},
     "output_type": "execute_result"
    }
   ],
   "source": [
    "# Is this a propertie or attribute?\n",
    "cheese.size"
   ]
  },
  {
   "cell_type": "code",
   "execution_count": 12,
   "metadata": {
    "collapsed": false,
    "hidden": true,
    "scrolled": true
   },
   "outputs": [
    {
     "ename": "AttributeError",
     "evalue": "'Pizza' object has no attribute 'temp'",
     "output_type": "error",
     "traceback": [
      "\u001b[0;31m---------------------------------------------------------------------------\u001b[0m",
      "\u001b[0;31mAttributeError\u001b[0m                            Traceback (most recent call last)",
      "\u001b[0;32m<ipython-input-12-bde9afedb7aa>\u001b[0m in \u001b[0;36m<module>\u001b[0;34m()\u001b[0m\n\u001b[1;32m      1\u001b[0m \u001b[0;31m# Is this a propertie or attribute?\u001b[0m\u001b[0;34m\u001b[0m\u001b[0;34m\u001b[0m\u001b[0m\n\u001b[0;32m----> 2\u001b[0;31m \u001b[0mcheese\u001b[0m\u001b[0;34m.\u001b[0m\u001b[0mtemp\u001b[0m\u001b[0;34m\u001b[0m\u001b[0m\n\u001b[0m",
      "\u001b[0;31mAttributeError\u001b[0m: 'Pizza' object has no attribute 'temp'"
     ]
    }
   ],
   "source": [
    "# Is this a propertie or attribute?\n",
    "cheese.temp"
   ]
  },
  {
   "cell_type": "code",
   "execution_count": 13,
   "metadata": {
    "collapsed": false,
    "hidden": true
   },
   "outputs": [],
   "source": [
    "cheese.enjoy(90, True)"
   ]
  },
  {
   "cell_type": "code",
   "execution_count": 14,
   "metadata": {
    "collapsed": false,
    "hidden": true
   },
   "outputs": [
    {
     "data": {
      "text/plain": [
       "'fast'"
      ]
     },
     "execution_count": 14,
     "metadata": {},
     "output_type": "execute_result"
    }
   ],
   "source": [
    "# Is this a propertie or attribute?\n",
    "cheese.delivery"
   ]
  },
  {
   "cell_type": "code",
   "execution_count": null,
   "metadata": {
    "collapsed": true,
    "hidden": true
   },
   "outputs": [],
   "source": []
  }
 ],
 "metadata": {
  "anaconda-cloud": {},
  "kernelspec": {
   "display_name": "Python [default]",
   "language": "python",
   "name": "python3"
  },
  "language_info": {
   "codemirror_mode": {
    "name": "ipython",
    "version": 3
   },
   "file_extension": ".py",
   "mimetype": "text/x-python",
   "name": "python",
   "nbconvert_exporter": "python",
   "pygments_lexer": "ipython3",
   "version": "3.5.2"
  },
  "toc": {
   "nav_menu": {
    "height": "12px",
    "width": "252px"
   },
   "navigate_menu": true,
   "number_sections": false,
   "sideBar": false,
   "threshold": 4,
   "toc_cell": false,
   "toc_position": {
    "height": "549px",
    "left": "711.98px",
    "right": "20px",
    "top": "117.994px",
    "width": "200px"
   },
   "toc_section_display": "block",
   "toc_window_display": true
  }
 },
 "nbformat": 4,
 "nbformat_minor": 1
}
