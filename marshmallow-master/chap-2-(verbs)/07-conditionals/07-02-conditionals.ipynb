{
 "cells": [
  {
   "cell_type": "markdown",
   "metadata": {},
   "source": [
    "#### Resources"
   ]
  },
  {
   "cell_type": "markdown",
   "metadata": {},
   "source": [
    "Follow Along\n",
    "- [Learn Python Full Course](http://www.mnemonic.academy/learn-python)\n",
    "- [Chapter 2: GitHub Repository](https://github.com/dylanjorgensen/marshmallow)\n",
    "- [Chapter 2: YouTube Playlist](https://www.youtube.com/playlist?list=PLil30Ftclj7l57uL768A98CNWM4_HgAY3)\n",
    "- [Chapter 2: Mnemonic E-Book](http://bit.ly/learn-python-chap-2) "
   ]
  },
  {
   "cell_type": "markdown",
   "metadata": {},
   "source": [
    "Read More\n",
    "- [Python Central](http://pythoncentral.io/one-line-if-statement-in-python-ternary-conditional-operator/)\n",
    "- [Stack Overflow](http://stackoverflow.com/questions/132988/is-there-a-difference-between-and-is-in-python)"
   ]
  },
  {
   "cell_type": "markdown",
   "metadata": {
    "collapsed": true
   },
   "source": [
    "# Conditionals"
   ]
  },
  {
   "cell_type": "code",
   "execution_count": null,
   "metadata": {
    "collapsed": false,
    "scrolled": true
   },
   "outputs": [],
   "source": [
    "# Can Elsa eat this?\n",
    "taste = \"good\"\n",
    "calories = 350\n",
    "\n",
    "print(\"Eat Cheesecake!\" if taste == 'good' and calories < 300 else \"Order Salad\")"
   ]
  },
  {
   "cell_type": "markdown",
   "metadata": {
    "heading_collapsed": true
   },
   "source": [
    "# Keywords"
   ]
  },
  {
   "cell_type": "code",
   "execution_count": null,
   "metadata": {
    "collapsed": false,
    "hidden": true
   },
   "outputs": [],
   "source": [
    "# If this, else what?\n",
    "if calories < 300:\n",
    "    print(\"Eat\")"
   ]
  },
  {
   "cell_type": "code",
   "execution_count": null,
   "metadata": {
    "collapsed": false,
    "hidden": true
   },
   "outputs": [],
   "source": [
    "# If this, then what?\n",
    "if calories < 300:\n",
    "    print(\"Eat\")\n",
    "else:\n",
    "    print(\"Order Salad\")"
   ]
  },
  {
   "cell_type": "code",
   "execution_count": null,
   "metadata": {
    "collapsed": false,
    "hidden": true
   },
   "outputs": [],
   "source": [
    "# If this, else this, then What?\n",
    "if calories < 300:\n",
    "    print(\"Eat\")\n",
    "elif calories == 350:\n",
    "    print(\"Just this time\")\n",
    "else:\n",
    "    print(\"Order Salad\")"
   ]
  },
  {
   "cell_type": "markdown",
   "metadata": {},
   "source": [
    "# Decision Trees"
   ]
  },
  {
   "cell_type": "code",
   "execution_count": 1,
   "metadata": {
    "collapsed": false
   },
   "outputs": [],
   "source": [
    "# Specify\n",
    "elsa_age = 21\n",
    "anna_age = 17"
   ]
  },
  {
   "cell_type": "code",
   "execution_count": 2,
   "metadata": {
    "collapsed": false
   },
   "outputs": [
    {
     "name": "stdout",
     "output_type": "stream",
     "text": [
      "She can drive but not drink\n"
     ]
    }
   ],
   "source": [
    "# What fun things is Anna old enough to do?\n",
    "if anna_age >= 21:\n",
    "    print(\"She can drink and drive, but not at the same time\")\n",
    "elif anna_age >= 17 and anna_age <= 21:\n",
    "    print(\"She can drive but not drink\")\n",
    "else:\n",
    "    print(\"Not old enough to do anything fun\")"
   ]
  },
  {
   "cell_type": "markdown",
   "metadata": {
    "heading_collapsed": true
   },
   "source": [
    "### Simple Logic"
   ]
  },
  {
   "cell_type": "code",
   "execution_count": 3,
   "metadata": {
    "collapsed": true,
    "hidden": true
   },
   "outputs": [],
   "source": [
    "# Reminder\n",
    "elsa_age = 21\n",
    "anna_age = 17"
   ]
  },
  {
   "cell_type": "code",
   "execution_count": 4,
   "metadata": {
    "collapsed": false,
    "hidden": true,
    "scrolled": true
   },
   "outputs": [
    {
     "name": "stdout",
     "output_type": "stream",
     "text": [
      "teenager\n"
     ]
    }
   ],
   "source": [
    "# Is this logic readable in one line?\n",
    "print('kid' if elsa_age < 13 else 'teenager')"
   ]
  },
  {
   "cell_type": "code",
   "execution_count": 5,
   "metadata": {
    "collapsed": false,
    "hidden": true
   },
   "outputs": [
    {
     "name": "stdout",
     "output_type": "stream",
     "text": [
      "teenager\n"
     ]
    }
   ],
   "source": [
    "# Is this logic in human readable order?\n",
    "print('kid' if anna_age < 13 else 'teenager' if anna_age < 18 else 'adult')"
   ]
  },
  {
   "cell_type": "markdown",
   "metadata": {
    "heading_collapsed": true
   },
   "source": [
    "### Complex Logic"
   ]
  },
  {
   "cell_type": "code",
   "execution_count": 6,
   "metadata": {
    "collapsed": true,
    "hidden": true
   },
   "outputs": [],
   "source": [
    "# Reminder\n",
    "elsa_age = 21\n",
    "anna_age = 17"
   ]
  },
  {
   "cell_type": "code",
   "execution_count": 7,
   "metadata": {
    "collapsed": false,
    "hidden": true
   },
   "outputs": [
    {
     "name": "stdout",
     "output_type": "stream",
     "text": [
      "teenager\n"
     ]
    }
   ],
   "source": [
    "# Will this work without the indentations?\n",
    "if anna_age < 18:\n",
    "    if anna_age < 13:\n",
    "        print('kid')\n",
    "    else:\n",
    "        print('teenager')\n",
    "else:\n",
    "    print('adult')"
   ]
  },
  {
   "cell_type": "code",
   "execution_count": 11,
   "metadata": {
    "collapsed": false,
    "hidden": true
   },
   "outputs": [
    {
     "name": "stdout",
     "output_type": "stream",
     "text": [
      "Batman lives\n"
     ]
    }
   ],
   "source": [
    "# Twoface captured \"Snow Batman\", his coin flip follows this logic.\n",
    "# Will Snow Batman survive?\n",
    "if not True:\n",
    "    print(\"Snow Batman dies\")\n",
    "else:\n",
    "    print(\"Snow Batman lives\")"
   ]
  },
  {
   "cell_type": "markdown",
   "metadata": {
    "heading_collapsed": true
   },
   "source": [
    "### Mix-N-Match"
   ]
  },
  {
   "cell_type": "code",
   "execution_count": 12,
   "metadata": {
    "collapsed": true,
    "hidden": true
   },
   "outputs": [],
   "source": [
    "# Reminder\n",
    "taste = \"good\"\n",
    "calories = 350"
   ]
  },
  {
   "cell_type": "code",
   "execution_count": 13,
   "metadata": {
    "collapsed": false,
    "hidden": true
   },
   "outputs": [
    {
     "name": "stdout",
     "output_type": "stream",
     "text": [
      "Order Salad\n"
     ]
    }
   ],
   "source": [
    "# Comparisons: Outcome?\n",
    "print(\"Eat\" if taste is 'good' and calories < 300 else \"Order Salad\")"
   ]
  },
  {
   "cell_type": "code",
   "execution_count": 14,
   "metadata": {
    "collapsed": false,
    "hidden": true
   },
   "outputs": [
    {
     "name": "stdout",
     "output_type": "stream",
     "text": [
      "Eat the Cheesecake!\n"
     ]
    }
   ],
   "source": [
    "# Arithmetic: What if Elsa exercises after?\n",
    "exercise = -200\n",
    "\n",
    "print(\"Eat the Cheesecake!\" if taste == 'good' and (calories + exercise) < 300 else \"Order Salad\")"
   ]
  },
  {
   "cell_type": "code",
   "execution_count": 16,
   "metadata": {
    "collapsed": false,
    "hidden": true
   },
   "outputs": [
    {
     "name": "stdout",
     "output_type": "stream",
     "text": [
      "Order Salad\n"
     ]
    }
   ],
   "source": [
    "# Update\n",
    "taste = \"good\"\n",
    "calories = 250\n",
    "\n",
    "# Membership: What if food tasts better than good?\n",
    "print(\"Eat\" if taste in ['awesome', 'delightful', 'delicious'] and calories < 300 else \"Order Salad\")"
   ]
  },
  {
   "cell_type": "markdown",
   "metadata": {
    "heading_collapsed": true
   },
   "source": [
    "### Loops (If and In)"
   ]
  },
  {
   "cell_type": "code",
   "execution_count": 4,
   "metadata": {
    "collapsed": false,
    "hidden": true
   },
   "outputs": [
    {
     "name": "stdout",
     "output_type": "stream",
     "text": [
      "off-limits list contains pizza :(\n"
     ]
    }
   ],
   "source": [
    "# How can elsa check if pizza is on her off_limits list?\n",
    "off_limits = ['pizza', 'food', 'football']\n",
    "\n",
    "value = \"pizza\"\n",
    "\n",
    "if value in off_limits:\n",
    "    print(\"off-limits list contains\", value, \":(\")"
   ]
  },
  {
   "cell_type": "code",
   "execution_count": null,
   "metadata": {
    "collapsed": true,
    "hidden": true
   },
   "outputs": [],
   "source": []
  }
 ],
 "metadata": {
  "anaconda-cloud": {},
  "kernelspec": {
   "display_name": "Python 3",
   "language": "python",
   "name": "python3"
  },
  "language_info": {
   "codemirror_mode": {
    "name": "ipython",
    "version": 3
   },
   "file_extension": ".py",
   "mimetype": "text/x-python",
   "name": "python",
   "nbconvert_exporter": "python",
   "pygments_lexer": "ipython3",
   "version": "3.6.0"
  },
  "toc": {
   "colors": {
    "hover_highlight": "#DAA520",
    "running_highlight": "#FF0000",
    "selected_highlight": "#FFD700"
   },
   "moveMenuLeft": true,
   "nav_menu": {
    "height": "12px",
    "width": "252px"
   },
   "navigate_menu": true,
   "number_sections": false,
   "sideBar": true,
   "threshold": 4,
   "toc_cell": false,
   "toc_position": {
    "height": "504px",
    "left": "0px",
    "right": "821px",
    "top": "107px",
    "width": "139px"
   },
   "toc_section_display": "block",
   "toc_window_display": true
  }
 },
 "nbformat": 4,
 "nbformat_minor": 1
}
