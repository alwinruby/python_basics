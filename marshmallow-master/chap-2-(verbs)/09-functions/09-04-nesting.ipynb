{
 "cells": [
  {
   "cell_type": "markdown",
   "metadata": {
    "collapsed": true,
    "heading_collapsed": true
   },
   "source": [
    "#### Resources"
   ]
  },
  {
   "cell_type": "markdown",
   "metadata": {
    "hidden": true
   },
   "source": [
    "Follow Along\n",
    "- [Learn Python Full Course](http://www.mnemonic.academy/learn-python)\n",
    "- [Chapter 2: GitHub Repository](https://github.com/dylanjorgensen/marshmallow)\n",
    "- [Chapter 2: YouTube Playlist](https://www.youtube.com/playlist?list=PLil30Ftclj7l57uL768A98CNWM4_HgAY3)\n",
    "- [Chapter 2: Mnemonic E-Book](http://bit.ly/learn-python-chap-2)"
   ]
  },
  {
   "cell_type": "markdown",
   "metadata": {
    "hidden": true
   },
   "source": [
    "Read More\n",
    "- [Let's Learn Python #15 - Nesting Functions and Decorators](https://www.youtube.com/watch?v=fVon4QaY4wo)\n",
    "- [Python PEP](https://www.python.org/dev/peps/pep-0484/)\n",
    "- [Colton Myers: Decorators: A Powerful Weapon in your Python Arsenal - PyCon 2014](https://www.youtube.com/watch?v=9oyr0mocZTg)\n",
    "- [ Let’s Learn Python](https://www.youtube.com/watch?v=fVon4QaY4wo)\n",
    "- [Decorators With Arguments in Python](http://scottlobdell.me/2015/04/decorators-arguments-python/)"
   ]
  },
  {
   "cell_type": "markdown",
   "metadata": {
    "collapsed": true,
    "heading_collapsed": true
   },
   "source": [
    "# First Class"
   ]
  },
  {
   "cell_type": "code",
   "execution_count": null,
   "metadata": {
    "collapsed": false,
    "hidden": true
   },
   "outputs": [],
   "source": [
    "# What will this function return?\n",
    "def rando():\n",
    "    import random\n",
    "    return(random.randint(1, 10))"
   ]
  },
  {
   "cell_type": "code",
   "execution_count": null,
   "metadata": {
    "collapsed": false,
    "hidden": true
   },
   "outputs": [],
   "source": [
    "rando()"
   ]
  },
  {
   "cell_type": "code",
   "execution_count": null,
   "metadata": {
    "collapsed": false,
    "hidden": true
   },
   "outputs": [],
   "source": [
    "# Can we use a function as a parameter?\n",
    "def robins_nest(func_var):\n",
    "\n",
    "    return func_var + 100"
   ]
  },
  {
   "cell_type": "code",
   "execution_count": null,
   "metadata": {
    "collapsed": false,
    "hidden": true
   },
   "outputs": [],
   "source": [
    "robins_nest(rando())"
   ]
  },
  {
   "cell_type": "markdown",
   "metadata": {
    "heading_collapsed": true
   },
   "source": [
    "# Nesting"
   ]
  },
  {
   "cell_type": "markdown",
   "metadata": {
    "hidden": true
   },
   "source": [
    "### Separate"
   ]
  },
  {
   "cell_type": "code",
   "execution_count": null,
   "metadata": {
    "collapsed": true,
    "hidden": true
   },
   "outputs": [],
   "source": [
    "def bird():\n",
    "    return \"fly\""
   ]
  },
  {
   "cell_type": "code",
   "execution_count": null,
   "metadata": {
    "collapsed": false,
    "hidden": true,
    "scrolled": true
   },
   "outputs": [],
   "source": [
    "bird()"
   ]
  },
  {
   "cell_type": "code",
   "execution_count": null,
   "metadata": {
    "collapsed": true,
    "hidden": true
   },
   "outputs": [],
   "source": [
    "# Do we even need to pass a function in?\n",
    "def nest():\n",
    "    return bird()*5"
   ]
  },
  {
   "cell_type": "code",
   "execution_count": null,
   "metadata": {
    "collapsed": false,
    "hidden": true
   },
   "outputs": [],
   "source": [
    "# What will nest return?\n",
    "nest()"
   ]
  },
  {
   "cell_type": "code",
   "execution_count": null,
   "metadata": {
    "collapsed": false,
    "hidden": true
   },
   "outputs": [],
   "source": [
    "bird()"
   ]
  },
  {
   "cell_type": "markdown",
   "metadata": {
    "hidden": true
   },
   "source": [
    "### Together"
   ]
  },
  {
   "cell_type": "code",
   "execution_count": null,
   "metadata": {
    "collapsed": true,
    "hidden": true
   },
   "outputs": [],
   "source": [
    "# Will we get the same results?\n",
    "def nest2():\n",
    "    \n",
    "    def bird2():\n",
    "        return \"egg\"\n",
    "    \n",
    "    return bird2()"
   ]
  },
  {
   "cell_type": "code",
   "execution_count": null,
   "metadata": {
    "collapsed": false,
    "hidden": true,
    "scrolled": true
   },
   "outputs": [],
   "source": [
    "nest2()"
   ]
  },
  {
   "cell_type": "code",
   "execution_count": null,
   "metadata": {
    "collapsed": false,
    "hidden": true
   },
   "outputs": [],
   "source": [
    "bird2()"
   ]
  },
  {
   "cell_type": "markdown",
   "metadata": {
    "heading_collapsed": true
   },
   "source": [
    "# Closure"
   ]
  },
  {
   "cell_type": "markdown",
   "metadata": {
    "heading_collapsed": true,
    "hidden": true
   },
   "source": [
    "### Execution w/ Parentheses"
   ]
  },
  {
   "cell_type": "code",
   "execution_count": 1,
   "metadata": {
    "collapsed": false,
    "hidden": true
   },
   "outputs": [],
   "source": [
    "# What variables can the bird access?\n",
    "\n",
    "stones3 = \"stones3\"\n",
    "\n",
    "def nest3():\n",
    "    sticks3 = \"sticks3\"\n",
    "    \n",
    "    def bird3():\n",
    "        bones3 = \"bones3\"\n",
    "        print(sticks3, stones3, \"and\", bones3)\n",
    "    \n",
    "    return bird3()"
   ]
  },
  {
   "cell_type": "code",
   "execution_count": 2,
   "metadata": {
    "collapsed": false,
    "hidden": true
   },
   "outputs": [],
   "source": [
    "# stones3 # Access Granted! \n",
    "# sticks3 # NameError: name 'sticks3' is not defined\n",
    "# bird3() # NameError: name 'bird3' is not defined"
   ]
  },
  {
   "cell_type": "code",
   "execution_count": 3,
   "metadata": {
    "collapsed": false,
    "hidden": true,
    "scrolled": false
   },
   "outputs": [
    {
     "name": "stdout",
     "output_type": "stream",
     "text": [
      "sticks3 stones3 and bones3\n"
     ]
    }
   ],
   "source": [
    "nest3()"
   ]
  },
  {
   "cell_type": "markdown",
   "metadata": {
    "heading_collapsed": true,
    "hidden": true
   },
   "source": [
    "### Execution w/o Parentheses"
   ]
  },
  {
   "cell_type": "code",
   "execution_count": 4,
   "metadata": {
    "collapsed": true,
    "hidden": true
   },
   "outputs": [],
   "source": [
    "# NOTICE: Before the inner function was returned without parentheses this time?\n",
    "\n",
    "stones4 = \"stones4\"\n",
    "\n",
    "def nest4():\n",
    "    sticks4 = \"sticks4\"\n",
    "    \n",
    "    def bird4():\n",
    "        bones4 = \"bones4\"\n",
    "        print(sticks4, stones4, \"and\", bones4)\n",
    "    \n",
    "    return bird4 # NOTICE: Changed from bird4()"
   ]
  },
  {
   "cell_type": "code",
   "execution_count": 5,
   "metadata": {
    "collapsed": false,
    "hidden": true
   },
   "outputs": [
    {
     "data": {
      "text/plain": [
       "<function __main__.nest4.<locals>.bird4>"
      ]
     },
     "execution_count": 5,
     "metadata": {},
     "output_type": "execute_result"
    }
   ],
   "source": [
    "# How do you think this change from nest3?\n",
    "nest4()"
   ]
  },
  {
   "cell_type": "code",
   "execution_count": 6,
   "metadata": {
    "collapsed": true,
    "hidden": true
   },
   "outputs": [],
   "source": [
    "# Can we put the functions return into a variable?\n",
    "shot_glass = nest4()"
   ]
  },
  {
   "cell_type": "code",
   "execution_count": 7,
   "metadata": {
    "collapsed": false,
    "hidden": true
   },
   "outputs": [
    {
     "data": {
      "text/plain": [
       "<function __main__.nest4.<locals>.bird4>"
      ]
     },
     "execution_count": 7,
     "metadata": {},
     "output_type": "execute_result"
    }
   ],
   "source": [
    "shot_glass"
   ]
  },
  {
   "cell_type": "code",
   "execution_count": 8,
   "metadata": {
    "collapsed": false,
    "hidden": true
   },
   "outputs": [
    {
     "name": "stdout",
     "output_type": "stream",
     "text": [
      "sticks4 stones4 and bones4\n"
     ]
    }
   ],
   "source": [
    "# How can we run a function in a var?\n",
    "# Will the function have access to the stick var scope?\n",
    "shot_glass()"
   ]
  },
  {
   "cell_type": "markdown",
   "metadata": {
    "heading_collapsed": true,
    "hidden": true
   },
   "source": [
    "### Repackage Execution w/ Parentheses"
   ]
  },
  {
   "cell_type": "code",
   "execution_count": 9,
   "metadata": {
    "collapsed": true,
    "hidden": true
   },
   "outputs": [],
   "source": [
    "stones5 = \"stones5\"\n",
    "\n",
    "def nest5():\n",
    "    sticks5 = \"sticks5\"\n",
    "    \n",
    "    def bird5():\n",
    "        bones5 = \"bones5\"\n",
    "        print(sticks5, stones5, \"and\", bones5)\n",
    "    \n",
    "    return bird5"
   ]
  },
  {
   "cell_type": "code",
   "execution_count": 10,
   "metadata": {
    "collapsed": true,
    "hidden": true
   },
   "outputs": [],
   "source": [
    "closed_package = nest5()"
   ]
  },
  {
   "cell_type": "code",
   "execution_count": 11,
   "metadata": {
    "collapsed": false,
    "hidden": true
   },
   "outputs": [],
   "source": [
    "def can_i_print(mystery):\n",
    "    return(mystery)"
   ]
  },
  {
   "cell_type": "code",
   "execution_count": 12,
   "metadata": {
    "collapsed": false,
    "hidden": true
   },
   "outputs": [
    {
     "name": "stdout",
     "output_type": "stream",
     "text": [
      "sticks5 stones5 and bones5\n"
     ]
    }
   ],
   "source": [
    "can_i_print(closed_package())"
   ]
  },
  {
   "cell_type": "markdown",
   "metadata": {
    "heading_collapsed": true
   },
   "source": [
    "# Decorators"
   ]
  },
  {
   "cell_type": "code",
   "execution_count": 2,
   "metadata": {
    "collapsed": true,
    "hidden": true
   },
   "outputs": [],
   "source": [
    "# NOTICE: The function order is rearanged to help with concept\n",
    "def dec_func(func_var):\n",
    "    def plus_hundred():\n",
    "        return func_var() + 100\n",
    "    return plus_hundred\n",
    "\n",
    "def rando():\n",
    "    import random\n",
    "    return(random.randint(1, 10))"
   ]
  },
  {
   "cell_type": "code",
   "execution_count": 3,
   "metadata": {
    "collapsed": false,
    "hidden": true
   },
   "outputs": [
    {
     "data": {
      "text/plain": [
       "102"
      ]
     },
     "execution_count": 3,
     "metadata": {},
     "output_type": "execute_result"
    }
   ],
   "source": [
    "rando_dec = dec_func(rando)\n",
    "rando_dec()"
   ]
  },
  {
   "cell_type": "code",
   "execution_count": 4,
   "metadata": {
    "collapsed": true,
    "hidden": true
   },
   "outputs": [],
   "source": [
    "import random\n",
    "# NOW with decorators!!\n",
    "\n",
    "def topping(any_cake):\n",
    "    def plus_hundred():\n",
    "        return any_cake() + 100\n",
    "    return plus_hundred\n",
    "\n",
    "@topping\n",
    "def chocolate_cake():\n",
    "    return(random.randint(1, 10))\n",
    " \n",
    "@topping\n",
    "def strawberry_cake():\n",
    "    return(random.randint(11, 20))\n",
    "\n",
    "@topping\n",
    "def vanilla_cake():\n",
    "    return(random.randint(21, 30))"
   ]
  },
  {
   "cell_type": "code",
   "execution_count": 5,
   "metadata": {
    "collapsed": false,
    "hidden": true
   },
   "outputs": [
    {
     "data": {
      "text/plain": [
       "109"
      ]
     },
     "execution_count": 5,
     "metadata": {},
     "output_type": "execute_result"
    }
   ],
   "source": [
    "chocolate_cake()"
   ]
  },
  {
   "cell_type": "code",
   "execution_count": 6,
   "metadata": {
    "collapsed": false,
    "hidden": true
   },
   "outputs": [
    {
     "data": {
      "text/plain": [
       "115"
      ]
     },
     "execution_count": 6,
     "metadata": {},
     "output_type": "execute_result"
    }
   ],
   "source": [
    "strawberry_cake()"
   ]
  },
  {
   "cell_type": "code",
   "execution_count": 7,
   "metadata": {
    "collapsed": false,
    "hidden": true
   },
   "outputs": [
    {
     "data": {
      "text/plain": [
       "121"
      ]
     },
     "execution_count": 7,
     "metadata": {},
     "output_type": "execute_result"
    }
   ],
   "source": [
    "vanilla_cake()"
   ]
  },
  {
   "cell_type": "markdown",
   "metadata": {
    "collapsed": true,
    "hidden": true
   },
   "source": [
    "### Timer Example"
   ]
  },
  {
   "cell_type": "code",
   "execution_count": 8,
   "metadata": {
    "collapsed": true,
    "hidden": true
   },
   "outputs": [],
   "source": [
    "import time\n",
    "def timer(wrapped):\n",
    "    def inner(*args, **kwargs):\n",
    "        t = time.time()\n",
    "        ret = wrapped(*args, **kwargs)\n",
    "        print(time.time()-t)\n",
    "        return ret\n",
    "    return inner\n",
    "\n",
    "@timer\n",
    "def myfunc():\n",
    "    count = 0\n",
    "    while (count < 9):\n",
    "        count = count + 1\n",
    "    else:\n",
    "        print(count, \"loop are done\")"
   ]
  },
  {
   "cell_type": "code",
   "execution_count": 9,
   "metadata": {
    "collapsed": false,
    "hidden": true
   },
   "outputs": [
    {
     "name": "stdout",
     "output_type": "stream",
     "text": [
      "10000 loop are done\n",
      "0.0011110305786132812\n"
     ]
    }
   ],
   "source": [
    "# That is how long this function takes!\n",
    "myfunc()"
   ]
  },
  {
   "cell_type": "code",
   "execution_count": null,
   "metadata": {
    "collapsed": true,
    "hidden": true
   },
   "outputs": [],
   "source": []
  }
 ],
 "metadata": {
  "anaconda-cloud": {},
  "kernelspec": {
   "display_name": "Python 3",
   "language": "python",
   "name": "python3"
  },
  "language_info": {
   "codemirror_mode": {
    "name": "ipython",
    "version": 3
   },
   "file_extension": ".py",
   "mimetype": "text/x-python",
   "name": "python",
   "nbconvert_exporter": "python",
   "pygments_lexer": "ipython3",
   "version": "3.6.0"
  },
  "toc": {
   "colors": {
    "hover_highlight": "#DAA520",
    "running_highlight": "#FF0000",
    "selected_highlight": "#FFD700"
   },
   "moveMenuLeft": true,
   "nav_menu": {
    "height": "264px",
    "width": "252px"
   },
   "navigate_menu": true,
   "number_sections": false,
   "sideBar": false,
   "threshold": 4,
   "toc_cell": false,
   "toc_position": {
    "height": "506px",
    "left": "709.929px",
    "right": "20px",
    "top": "113.952px",
    "width": "208px"
   },
   "toc_section_display": "block",
   "toc_window_display": true
  }
 },
 "nbformat": 4,
 "nbformat_minor": 1
}
