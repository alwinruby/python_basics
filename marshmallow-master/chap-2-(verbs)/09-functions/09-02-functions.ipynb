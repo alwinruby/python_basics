{
 "cells": [
  {
   "cell_type": "markdown",
   "metadata": {},
   "source": [
    "#### Resources"
   ]
  },
  {
   "cell_type": "markdown",
   "metadata": {},
   "source": [
    "Follow Along\n",
    "- [Learn Python Full Course](http://www.mnemonic.academy/learn-python)\n",
    "- [Chapter 2: GitHub Repository](https://github.com/dylanjorgensen/marshmallow)\n",
    "- [Chapter 2: YouTube Playlist](https://www.youtube.com/playlist?list=PLil30Ftclj7l57uL768A98CNWM4_HgAY3)\n",
    "- [Chapter 2: Mnemonic E-Book](http://bit.ly/learn-python-chap-2)"
   ]
  },
  {
   "cell_type": "markdown",
   "metadata": {},
   "source": [
    "Read More\n",
    "- [Tutorials Points](https://www.tutorialspoint.com/python/python_functions.htm)\n",
    "- [pythoncentral.io](http://pythoncentral.io/fun-with-python-function-parameters/)\n",
    "- [pythoncentral.io](http://pythoncentral.io/fun-with-python-function-parameters/)"
   ]
  },
  {
   "cell_type": "markdown",
   "metadata": {
    "heading_collapsed": true
   },
   "source": [
    "# Functions"
   ]
  },
  {
   "cell_type": "code",
   "execution_count": null,
   "metadata": {
    "collapsed": true,
    "hidden": true
   },
   "outputs": [],
   "source": [
    "# Why do you think a gas pump is our mnemonic?\n",
    "def gas_pump(dollars):\n",
    "    \n",
    "    gallons = (dollars * 0.5)\n",
    "    return gallons"
   ]
  },
  {
   "cell_type": "code",
   "execution_count": null,
   "metadata": {
    "collapsed": false,
    "hidden": true
   },
   "outputs": [],
   "source": [
    "# How many gallons of gas can we get for $13?\n",
    "cash = 14\n",
    "\n",
    "gas_pump(cash)"
   ]
  },
  {
   "cell_type": "markdown",
   "metadata": {
    "heading_collapsed": true
   },
   "source": [
    "# Calling"
   ]
  },
  {
   "cell_type": "code",
   "execution_count": null,
   "metadata": {
    "collapsed": true,
    "hidden": true
   },
   "outputs": [],
   "source": [
    "# Is this syntax correct?\n",
    "def cup_of(melted_contacts, cream):\n",
    "    return melted_contacts + cream"
   ]
  },
  {
   "cell_type": "code",
   "execution_count": null,
   "metadata": {
    "collapsed": true,
    "hidden": true
   },
   "outputs": [],
   "source": [
    "pairs = 64 # of contacts\n",
    "ounces = 4 # of cream"
   ]
  },
  {
   "cell_type": "code",
   "execution_count": null,
   "metadata": {
    "collapsed": false,
    "hidden": true
   },
   "outputs": [],
   "source": [
    "# What do you think pass will do?\n",
    "def morning_drink(melted_contacts, cream):\n",
    "    pass\n",
    "\n",
    "morning_drink(pairs, ounces)"
   ]
  },
  {
   "cell_type": "code",
   "execution_count": null,
   "metadata": {
    "collapsed": true,
    "hidden": true
   },
   "outputs": [],
   "source": [
    "# What do you think will happen without the return?\n",
    "def morning_drink(melted_contacts, cream):\n",
    "    melted_contacts + cream\n",
    "    pass\n",
    "\n",
    "morning_drink(pairs, ounces)"
   ]
  },
  {
   "cell_type": "code",
   "execution_count": null,
   "metadata": {
    "collapsed": false,
    "hidden": true
   },
   "outputs": [],
   "source": [
    "def morning_drink(melted_contacts, cream):\n",
    "    return melted_contacts + cream\n",
    "\n",
    "morning_drink(pairs, ounces)"
   ]
  },
  {
   "cell_type": "code",
   "execution_count": null,
   "metadata": {
    "collapsed": true,
    "hidden": true
   },
   "outputs": [],
   "source": [
    "# Blank"
   ]
  },
  {
   "cell_type": "code",
   "execution_count": null,
   "metadata": {
    "collapsed": true,
    "hidden": true
   },
   "outputs": [],
   "source": [
    "# Blank"
   ]
  },
  {
   "cell_type": "code",
   "execution_count": null,
   "metadata": {
    "collapsed": false,
    "hidden": true
   },
   "outputs": [],
   "source": [
    "# Can we call a function from someplace else in the code?\n",
    "morning_drink(pairs, ounces)"
   ]
  },
  {
   "cell_type": "markdown",
   "metadata": {
    "heading_collapsed": true,
    "hidden": true
   },
   "source": [
    "### Check"
   ]
  },
  {
   "cell_type": "code",
   "execution_count": null,
   "metadata": {
    "collapsed": false,
    "hidden": true
   },
   "outputs": [],
   "source": [
    "# You can detect if an object is callable by using the callable() function:\n",
    "def a(): pass\n",
    "\n",
    "callable(a)"
   ]
  },
  {
   "cell_type": "code",
   "execution_count": null,
   "metadata": {
    "collapsed": false,
    "hidden": true
   },
   "outputs": [],
   "source": [
    "callable(morning_drink)"
   ]
  },
  {
   "cell_type": "code",
   "execution_count": null,
   "metadata": {
    "collapsed": false,
    "hidden": true
   },
   "outputs": [],
   "source": [
    "callable(1)"
   ]
  },
  {
   "cell_type": "code",
   "execution_count": null,
   "metadata": {
    "collapsed": false,
    "hidden": true
   },
   "outputs": [],
   "source": [
    "knees = 2\n",
    "callable(knees)"
   ]
  },
  {
   "cell_type": "markdown",
   "metadata": {
    "heading_collapsed": true,
    "hidden": true
   },
   "source": [
    "### Syntax"
   ]
  },
  {
   "cell_type": "code",
   "execution_count": null,
   "metadata": {
    "collapsed": true,
    "hidden": true
   },
   "outputs": [],
   "source": [
    "def simple():\n",
    "    return 3*4"
   ]
  },
  {
   "cell_type": "code",
   "execution_count": null,
   "metadata": {
    "collapsed": false,
    "hidden": true
   },
   "outputs": [],
   "source": [
    "# Oh no!!! We forgot to put () on our call!\n",
    "simple"
   ]
  },
  {
   "cell_type": "code",
   "execution_count": null,
   "metadata": {
    "collapsed": false,
    "hidden": true
   },
   "outputs": [],
   "source": [
    "# Ahh, much better. \n",
    "simple()"
   ]
  },
  {
   "cell_type": "markdown",
   "metadata": {
    "heading_collapsed": true,
    "hidden": true
   },
   "source": [
    "### Annotations"
   ]
  },
  {
   "cell_type": "markdown",
   "metadata": {
    "hidden": true
   },
   "source": [
    "- Parameter annotation tell the user what kind of types to put into a function\n",
    "- Function return annotation tell what types will be passed back. \n",
    "- These make not changes to the functionality but are an officially supported standard. "
   ]
  },
  {
   "cell_type": "code",
   "execution_count": null,
   "metadata": {
    "collapsed": false,
    "hidden": true
   },
   "outputs": [],
   "source": [
    "def add(x : int, y : str, z : float) -> list:\n",
    "    scroll = []\n",
    "    scroll.append(x)\n",
    "    scroll.append(y)\n",
    "    scroll.append(z)\n",
    "    return scroll"
   ]
  },
  {
   "cell_type": "code",
   "execution_count": null,
   "metadata": {
    "collapsed": false,
    "hidden": true
   },
   "outputs": [],
   "source": [
    "shopping = add(4, \"hi\", 4.4)\n",
    "shopping"
   ]
  },
  {
   "cell_type": "code",
   "execution_count": null,
   "metadata": {
    "collapsed": false,
    "hidden": true
   },
   "outputs": [],
   "source": [
    "type(shopping)"
   ]
  },
  {
   "cell_type": "markdown",
   "metadata": {},
   "source": [
    "# Parameters"
   ]
  },
  {
   "cell_type": "markdown",
   "metadata": {
    "heading_collapsed": true
   },
   "source": [
    "### Styles"
   ]
  },
  {
   "cell_type": "code",
   "execution_count": 3,
   "metadata": {
    "collapsed": true,
    "hidden": true
   },
   "outputs": [],
   "source": [
    "bm = 7\n",
    "ym = 3"
   ]
  },
  {
   "cell_type": "code",
   "execution_count": 4,
   "metadata": {
    "collapsed": false,
    "hidden": true
   },
   "outputs": [
    {
     "data": {
      "text/plain": [
       "4"
      ]
     },
     "execution_count": 4,
     "metadata": {},
     "output_type": "execute_result"
    }
   ],
   "source": [
    "# Mandatory positional parameters\n",
    "def hungry_hippo(x, y):\n",
    "    return x-y\n",
    "\n",
    "hungry_hippo(bm, ym)"
   ]
  },
  {
   "cell_type": "code",
   "execution_count": 6,
   "metadata": {
    "collapsed": false,
    "hidden": true
   },
   "outputs": [
    {
     "data": {
      "text/plain": [
       "4"
      ]
     },
     "execution_count": 6,
     "metadata": {},
     "output_type": "execute_result"
    }
   ],
   "source": [
    "# Order does not matter now\n",
    "hungry_hippo(x=bm, y=ym)"
   ]
  },
  {
   "cell_type": "code",
   "execution_count": 11,
   "metadata": {
    "collapsed": true,
    "hidden": true
   },
   "outputs": [],
   "source": [
    "# Optional default value parameters\n",
    "def hungry_hippo(x=5, y=0):\n",
    "    return x-y"
   ]
  },
  {
   "cell_type": "code",
   "execution_count": 12,
   "metadata": {
    "collapsed": false,
    "hidden": true
   },
   "outputs": [
    {
     "data": {
      "text/plain": [
       "5"
      ]
     },
     "execution_count": 12,
     "metadata": {},
     "output_type": "execute_result"
    }
   ],
   "source": [
    "hungry_hippo()"
   ]
  },
  {
   "cell_type": "code",
   "execution_count": 13,
   "metadata": {
    "collapsed": true,
    "hidden": true
   },
   "outputs": [],
   "source": [
    "# Mix-N-Match\n",
    "def hungry_hippo(x, y=0):\n",
    "    return x-y"
   ]
  },
  {
   "cell_type": "code",
   "execution_count": 14,
   "metadata": {
    "collapsed": false,
    "hidden": true
   },
   "outputs": [
    {
     "data": {
      "text/plain": [
       "3"
      ]
     },
     "execution_count": 14,
     "metadata": {},
     "output_type": "execute_result"
    }
   ],
   "source": [
    "hungry_hippo(ym)"
   ]
  },
  {
   "cell_type": "code",
   "execution_count": 16,
   "metadata": {
    "collapsed": false,
    "hidden": true
   },
   "outputs": [
    {
     "data": {
      "text/plain": [
       "3"
      ]
     },
     "execution_count": 16,
     "metadata": {},
     "output_type": "execute_result"
    }
   ],
   "source": [
    "# ERROR: Missing required x\n",
    "# hungry_hippo(y=ym)"
   ]
  },
  {
   "cell_type": "code",
   "execution_count": 17,
   "metadata": {
    "collapsed": false,
    "hidden": true
   },
   "outputs": [],
   "source": [
    "# What about a triple threat\n",
    "def homerun(first, second, third):\n",
    "    return first + second + third"
   ]
  },
  {
   "cell_type": "code",
   "execution_count": 19,
   "metadata": {
    "collapsed": false,
    "hidden": true
   },
   "outputs": [
    {
     "data": {
      "text/plain": [
       "6"
      ]
     },
     "execution_count": 19,
     "metadata": {},
     "output_type": "execute_result"
    }
   ],
   "source": [
    "# Place the arguments in the function call\n",
    "homerun(1, 2, 3)"
   ]
  },
  {
   "cell_type": "code",
   "execution_count": 21,
   "metadata": {
    "collapsed": false,
    "hidden": true
   },
   "outputs": [
    {
     "data": {
      "text/plain": [
       "6"
      ]
     },
     "execution_count": 21,
     "metadata": {},
     "output_type": "execute_result"
    }
   ],
   "source": [
    "# We can also assign the args\n",
    "homerun(first=1, second=2, third=3)"
   ]
  },
  {
   "cell_type": "code",
   "execution_count": null,
   "metadata": {
    "collapsed": true,
    "hidden": true
   },
   "outputs": [],
   "source": [
    "# WARNING: But we can NOT mix-n-match\n",
    "# foo(val1=1, val2=2, 3)"
   ]
  },
  {
   "cell_type": "markdown",
   "metadata": {},
   "source": [
    "### \\*Args"
   ]
  },
  {
   "cell_type": "code",
   "execution_count": 23,
   "metadata": {
    "collapsed": false
   },
   "outputs": [
    {
     "name": "stdout",
     "output_type": "stream",
     "text": [
      "0 apple\n",
      "1 banana\n"
     ]
    }
   ],
   "source": [
    "# What does passing in *args do?\n",
    "def print_everything(*args):\n",
    "    for idx, fruit in enumerate(args):\n",
    "        print(idx, fruit)\n",
    "\n",
    "print_everything('apple', 'banana', 'cabbage')"
   ]
  },
  {
   "cell_type": "code",
   "execution_count": 24,
   "metadata": {
    "collapsed": false
   },
   "outputs": [
    {
     "name": "stdout",
     "output_type": "stream",
     "text": [
      "First:  one tequila\n",
      "Second:  two tequila\n",
      "Third:  three tequila\n",
      "And all the rest...  ['floor', 'car', 'jail']\n"
     ]
    }
   ],
   "source": [
    "# Do you think we can make some specific and some * style?\n",
    "def tequila(first, second, third, *therest):\n",
    "    print(\"First: \", first)\n",
    "    print(\"Second: \", second)\n",
    "    print(\"Third: \", third)\n",
    "    print(\"And all the rest... \", list(therest))\n",
    "\n",
    "tequila('one tequila', 'two tequila', 'three tequila', 'floor', 'car', 'jail')"
   ]
  },
  {
   "cell_type": "markdown",
   "metadata": {},
   "source": [
    "### \\*\\*Kwargs"
   ]
  },
  {
   "cell_type": "code",
   "execution_count": 1,
   "metadata": {
    "collapsed": false
   },
   "outputs": [
    {
     "name": "stdout",
     "output_type": "stream",
     "text": [
      "apple = fruit\n",
      "cabbage = vegetable\n"
     ]
    }
   ],
   "source": [
    "# What do you think adding **kwargs will do?\n",
    "def table_things(**kwargs):\n",
    "    for name, value in kwargs.items():\n",
    "        print('{0} = {1}'.format(name, value))\n",
    "\n",
    "table_things(apple = 'fruit', cabbage = 'vegetable')"
   ]
  },
  {
   "cell_type": "code",
   "execution_count": 2,
   "metadata": {
    "collapsed": false
   },
   "outputs": [
    {
     "name": "stdout",
     "output_type": "stream",
     "text": [
      "The sum is:  6\n"
     ]
    }
   ],
   "source": [
    "# Do you think we can make some specific and some ** style?\n",
    "def bar(first, second, third, **options):\n",
    "    if options.get(\"action\") == \"sum\":  # Notice the .get method that matches the param input\n",
    "        print(\"The sum is: \", (first + second + third))\n",
    "\n",
    "\n",
    "bar(1, 2, 3, action = \"sum\", number = \"first\")"
   ]
  },
  {
   "cell_type": "markdown",
   "metadata": {
    "collapsed": true
   },
   "source": [
    "### Unpacking"
   ]
  },
  {
   "cell_type": "code",
   "execution_count": 32,
   "metadata": {
    "collapsed": false
   },
   "outputs": [
    {
     "name": "stdout",
     "output_type": "stream",
     "text": [
      "a c b\n",
      "1 2 3\n",
      "10 20 30\n"
     ]
    }
   ],
   "source": [
    "# We can unpack a function calls\n",
    "def alphabet(a, b, c):\n",
    "    print(a, b, c)\n",
    " \n",
    "mydict = {'a':1, 'b':2, 'c':3}\n",
    "mylist = [10, 20, 30]\n",
    " \n",
    "alphabet(*mydict)\n",
    "alphabet(**mydict)\n",
    "alphabet(*mylist)"
   ]
  }
 ],
 "metadata": {
  "anaconda-cloud": {},
  "kernelspec": {
   "display_name": "Python 3",
   "language": "python",
   "name": "python3"
  },
  "language_info": {
   "codemirror_mode": {
    "name": "ipython",
    "version": 3
   },
   "file_extension": ".py",
   "mimetype": "text/x-python",
   "name": "python",
   "nbconvert_exporter": "python",
   "pygments_lexer": "ipython3",
   "version": "3.6.0"
  },
  "toc": {
   "colors": {
    "hover_highlight": "#DAA520",
    "running_highlight": "#FF0000",
    "selected_highlight": "#FFD700"
   },
   "moveMenuLeft": true,
   "nav_menu": {
    "height": "30px",
    "width": "252px"
   },
   "navigate_menu": true,
   "number_sections": false,
   "sideBar": false,
   "threshold": 4,
   "toc_cell": false,
   "toc_position": {
    "height": "470px",
    "left": "845.974px",
    "right": "20px",
    "top": "487.986px",
    "width": "203px"
   },
   "toc_section_display": "block",
   "toc_window_display": true
  }
 },
 "nbformat": 4,
 "nbformat_minor": 1
}
